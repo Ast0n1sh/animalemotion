{
 "cells": [
  {
   "cell_type": "markdown",
   "metadata": {},
   "source": [
    "## Project Name: Animal Emotion Park\n",
    "Developed By: Nishant Sharma\n",
    "### Project Summary:\n",
    "\n",
    "Objective:\n",
    "Develop a feature that predicts the emotions (happy, sad, or hungry) of individual animals within a group. This system will mark the emotions of each animal and trigger a notification with the format \"Animal Name + Emotion\". If a group of animals is detected, the notification will list all animals' names and their respective emotions.\n",
    "\n",
    "Key Features:\n",
    "\n",
    "Emotion Prediction:\n",
    "\n",
    "* Utilize machine learning algorithms to analyze and predict the emotions of animals based on various inputs (e.g., facial expressions, body language, sounds).\n",
    "* Ensure the model can accurately identify and differentiate between happy, sad, and hungry emotions.\n",
    "\n",
    "Group Analysis:\n",
    "\n",
    "* Implement a feature to analyze groups of animals, identifying and marking the emotions of each animal individually.\n",
    "* Ensure the system can handle varying numbers of animals and maintain accuracy in predictions.\n",
    "\n",
    "Notification System:\n",
    "\n",
    "* Develop a notification mechanism that triggers a pop-up message.\n",
    "* Format the message to display \"Animal Name + Emotion\" for individual animals.\n",
    "* For groups, list all animal names and their corresponding emotions in a clear and concise manner.\n",
    "\n",
    "Expected Outcomes:\n",
    "\n",
    "* Accurate emotion detection for individual animals and groups.\n",
    "* Efficient and user-friendly notification system to inform users of the animals' emotional states.\n",
    "* Enhanced monitoring and understanding of animal welfare through real-time emotion tracking.\n",
    "\n",
    "Project Scope:\n",
    "\n",
    "* Data collection and preprocessing for training the emotion prediction model.\n",
    "* Development and integration of the emotion prediction algorithm.\n",
    "* Implementation of the notification system.\n",
    "* Testing and validation to ensure accuracy and reliability.\n",
    "\n",
    "Potential Applications:\n",
    "\n",
    "* Zoos and animal shelters for better animal care.\n",
    "* Wildlife monitoring and research.\n",
    "* Pet care services to enhance pet well-being.\n",
    "\n",
    "Github Link:\n",
    "### Problem Statement: Animal Emotion Prediction and Notification System\n",
    "In environments such as zoos, animal shelters, wildlife reserves, and pet care facilities, understanding and monitoring the emotional states of animals is crucial for ensuring their well-being. However, accurately identifying and responding to the emotions of animals—whether they are happy, sad, or hungry—poses a significant challenge due to the complexity and variability of animal behavior.\n",
    "\n",
    "Current methods for assessing animal emotions often rely on human observation, which can be subjective, inconsistent, and inefficient, especially when dealing with large groups of animals. There is a need for an automated system that can reliably predict the emotions of individual animals within a group and provide real-time notifications to caretakers, enabling timely and appropriate responses to the animals' needs.\n",
    "\n",
    "The goal of this project is to develop a feature that leverages machine learning to predict the emotions of animals, both individually and in groups, and to implement a notification system that alerts caretakers with detailed information about each animal's emotional state. By addressing this problem, we aim to enhance the overall welfare of animals through improved monitoring and proactive care.\n",
    "\n",
    "### Let's Begin:"
   ]
  },
  {
   "cell_type": "markdown",
   "metadata": {},
   "source": [
    "#### Code Block 1: Load the Data\n",
    "This block of code will help in loading the images and their respective labels from the dataset directory"
   ]
  },
  {
   "cell_type": "code",
   "execution_count": 1,
   "metadata": {},
   "outputs": [],
   "source": [
    "import os\n",
    "import numpy as np\n",
    "from tensorflow.keras.preprocessing.image import load_img, img_to_array\n",
    "\n",
    "def load_data(directory):\n",
    "    data = []\n",
    "    labels = []\n",
    "    categories = ['Angry', 'Happy', 'Sad', 'Other']\n",
    "\n",
    "    for category in categories:\n",
    "        path = os.path.join(directory, category)\n",
    "        for img in os.listdir(path):\n",
    "            img_path = os.path.join(path, img)\n",
    "            img_loaded = load_img(img_path, target_size=(224, 224))  # Resize for consistent input size\n",
    "            img_array = img_to_array(img_loaded)\n",
    "            data.append(img_array)\n",
    "            labels.append(category)\n",
    "\n",
    "    # Convert data to numpy arrays and scale the pixel values to be between 0 and 1\n",
    "    data = np.array(data, dtype=\"float32\") / 255.0\n",
    "    labels = np.array(labels)\n",
    "    return data, labels\n",
    "\n",
    "# Example usage\n",
    "train_data, train_labels = load_data('C:\\\\Users\\\\nisha\\\\OneDrive\\\\Documents\\\\Animal\\\\Master_Folder\\\\train')\n",
    "test_data, test_labels = load_data('C:\\\\Users\\\\nisha\\\\OneDrive\\\\Documents\\\\Animal\\\\Master_Folder\\\\test')\n",
    "valid_data, valid_labels = load_data('C:\\\\Users\\\\nisha\\\\OneDrive\\\\Documents\\\\Animal\\\\Master_Folder\\\\valid')\n"
   ]
  },
  {
   "cell_type": "markdown",
   "metadata": {},
   "source": [
    "#### Code Block 2: Building the Model\n",
    "We'll use a Convolutional Neural Network (CNN) model, as it is well-suited for image classification tasks. We'll build a simple CNN using TensorFlow and Keras."
   ]
  },
  {
   "cell_type": "code",
   "execution_count": 2,
   "metadata": {},
   "outputs": [
    {
     "name": "stderr",
     "output_type": "stream",
     "text": [
      "c:\\Users\\nisha\\AppData\\Local\\Programs\\Python\\Python312\\Lib\\site-packages\\keras\\src\\layers\\convolutional\\base_conv.py:107: UserWarning: Do not pass an `input_shape`/`input_dim` argument to a layer. When using Sequential models, prefer using an `Input(shape)` object as the first layer in the model instead.\n",
      "  super().__init__(activity_regularizer=activity_regularizer, **kwargs)\n"
     ]
    },
    {
     "data": {
      "text/html": [
       "<pre style=\"white-space:pre;overflow-x:auto;line-height:normal;font-family:Menlo,'DejaVu Sans Mono',consolas,'Courier New',monospace\"><span style=\"font-weight: bold\">Model: \"sequential\"</span>\n",
       "</pre>\n"
      ],
      "text/plain": [
       "\u001b[1mModel: \"sequential\"\u001b[0m\n"
      ]
     },
     "metadata": {},
     "output_type": "display_data"
    },
    {
     "data": {
      "text/html": [
       "<pre style=\"white-space:pre;overflow-x:auto;line-height:normal;font-family:Menlo,'DejaVu Sans Mono',consolas,'Courier New',monospace\">┏━━━━━━━━━━━━━━━━━━━━━━━━━━━━━━━━━┳━━━━━━━━━━━━━━━━━━━━━━━━┳━━━━━━━━━━━━━━━┓\n",
       "┃<span style=\"font-weight: bold\"> Layer (type)                    </span>┃<span style=\"font-weight: bold\"> Output Shape           </span>┃<span style=\"font-weight: bold\">       Param # </span>┃\n",
       "┡━━━━━━━━━━━━━━━━━━━━━━━━━━━━━━━━━╇━━━━━━━━━━━━━━━━━━━━━━━━╇━━━━━━━━━━━━━━━┩\n",
       "│ conv2d (<span style=\"color: #0087ff; text-decoration-color: #0087ff\">Conv2D</span>)                 │ (<span style=\"color: #00d7ff; text-decoration-color: #00d7ff\">None</span>, <span style=\"color: #00af00; text-decoration-color: #00af00\">222</span>, <span style=\"color: #00af00; text-decoration-color: #00af00\">222</span>, <span style=\"color: #00af00; text-decoration-color: #00af00\">32</span>)   │           <span style=\"color: #00af00; text-decoration-color: #00af00\">896</span> │\n",
       "├─────────────────────────────────┼────────────────────────┼───────────────┤\n",
       "│ max_pooling2d (<span style=\"color: #0087ff; text-decoration-color: #0087ff\">MaxPooling2D</span>)    │ (<span style=\"color: #00d7ff; text-decoration-color: #00d7ff\">None</span>, <span style=\"color: #00af00; text-decoration-color: #00af00\">111</span>, <span style=\"color: #00af00; text-decoration-color: #00af00\">111</span>, <span style=\"color: #00af00; text-decoration-color: #00af00\">32</span>)   │             <span style=\"color: #00af00; text-decoration-color: #00af00\">0</span> │\n",
       "├─────────────────────────────────┼────────────────────────┼───────────────┤\n",
       "│ conv2d_1 (<span style=\"color: #0087ff; text-decoration-color: #0087ff\">Conv2D</span>)               │ (<span style=\"color: #00d7ff; text-decoration-color: #00d7ff\">None</span>, <span style=\"color: #00af00; text-decoration-color: #00af00\">109</span>, <span style=\"color: #00af00; text-decoration-color: #00af00\">109</span>, <span style=\"color: #00af00; text-decoration-color: #00af00\">64</span>)   │        <span style=\"color: #00af00; text-decoration-color: #00af00\">18,496</span> │\n",
       "├─────────────────────────────────┼────────────────────────┼───────────────┤\n",
       "│ max_pooling2d_1 (<span style=\"color: #0087ff; text-decoration-color: #0087ff\">MaxPooling2D</span>)  │ (<span style=\"color: #00d7ff; text-decoration-color: #00d7ff\">None</span>, <span style=\"color: #00af00; text-decoration-color: #00af00\">54</span>, <span style=\"color: #00af00; text-decoration-color: #00af00\">54</span>, <span style=\"color: #00af00; text-decoration-color: #00af00\">64</span>)     │             <span style=\"color: #00af00; text-decoration-color: #00af00\">0</span> │\n",
       "├─────────────────────────────────┼────────────────────────┼───────────────┤\n",
       "│ conv2d_2 (<span style=\"color: #0087ff; text-decoration-color: #0087ff\">Conv2D</span>)               │ (<span style=\"color: #00d7ff; text-decoration-color: #00d7ff\">None</span>, <span style=\"color: #00af00; text-decoration-color: #00af00\">52</span>, <span style=\"color: #00af00; text-decoration-color: #00af00\">52</span>, <span style=\"color: #00af00; text-decoration-color: #00af00\">128</span>)    │        <span style=\"color: #00af00; text-decoration-color: #00af00\">73,856</span> │\n",
       "├─────────────────────────────────┼────────────────────────┼───────────────┤\n",
       "│ max_pooling2d_2 (<span style=\"color: #0087ff; text-decoration-color: #0087ff\">MaxPooling2D</span>)  │ (<span style=\"color: #00d7ff; text-decoration-color: #00d7ff\">None</span>, <span style=\"color: #00af00; text-decoration-color: #00af00\">26</span>, <span style=\"color: #00af00; text-decoration-color: #00af00\">26</span>, <span style=\"color: #00af00; text-decoration-color: #00af00\">128</span>)    │             <span style=\"color: #00af00; text-decoration-color: #00af00\">0</span> │\n",
       "├─────────────────────────────────┼────────────────────────┼───────────────┤\n",
       "│ flatten (<span style=\"color: #0087ff; text-decoration-color: #0087ff\">Flatten</span>)               │ (<span style=\"color: #00d7ff; text-decoration-color: #00d7ff\">None</span>, <span style=\"color: #00af00; text-decoration-color: #00af00\">86528</span>)          │             <span style=\"color: #00af00; text-decoration-color: #00af00\">0</span> │\n",
       "├─────────────────────────────────┼────────────────────────┼───────────────┤\n",
       "│ dense (<span style=\"color: #0087ff; text-decoration-color: #0087ff\">Dense</span>)                   │ (<span style=\"color: #00d7ff; text-decoration-color: #00d7ff\">None</span>, <span style=\"color: #00af00; text-decoration-color: #00af00\">128</span>)            │    <span style=\"color: #00af00; text-decoration-color: #00af00\">11,075,712</span> │\n",
       "├─────────────────────────────────┼────────────────────────┼───────────────┤\n",
       "│ dropout (<span style=\"color: #0087ff; text-decoration-color: #0087ff\">Dropout</span>)               │ (<span style=\"color: #00d7ff; text-decoration-color: #00d7ff\">None</span>, <span style=\"color: #00af00; text-decoration-color: #00af00\">128</span>)            │             <span style=\"color: #00af00; text-decoration-color: #00af00\">0</span> │\n",
       "├─────────────────────────────────┼────────────────────────┼───────────────┤\n",
       "│ dense_1 (<span style=\"color: #0087ff; text-decoration-color: #0087ff\">Dense</span>)                 │ (<span style=\"color: #00d7ff; text-decoration-color: #00d7ff\">None</span>, <span style=\"color: #00af00; text-decoration-color: #00af00\">4</span>)              │           <span style=\"color: #00af00; text-decoration-color: #00af00\">516</span> │\n",
       "└─────────────────────────────────┴────────────────────────┴───────────────┘\n",
       "</pre>\n"
      ],
      "text/plain": [
       "┏━━━━━━━━━━━━━━━━━━━━━━━━━━━━━━━━━┳━━━━━━━━━━━━━━━━━━━━━━━━┳━━━━━━━━━━━━━━━┓\n",
       "┃\u001b[1m \u001b[0m\u001b[1mLayer (type)                   \u001b[0m\u001b[1m \u001b[0m┃\u001b[1m \u001b[0m\u001b[1mOutput Shape          \u001b[0m\u001b[1m \u001b[0m┃\u001b[1m \u001b[0m\u001b[1m      Param #\u001b[0m\u001b[1m \u001b[0m┃\n",
       "┡━━━━━━━━━━━━━━━━━━━━━━━━━━━━━━━━━╇━━━━━━━━━━━━━━━━━━━━━━━━╇━━━━━━━━━━━━━━━┩\n",
       "│ conv2d (\u001b[38;5;33mConv2D\u001b[0m)                 │ (\u001b[38;5;45mNone\u001b[0m, \u001b[38;5;34m222\u001b[0m, \u001b[38;5;34m222\u001b[0m, \u001b[38;5;34m32\u001b[0m)   │           \u001b[38;5;34m896\u001b[0m │\n",
       "├─────────────────────────────────┼────────────────────────┼───────────────┤\n",
       "│ max_pooling2d (\u001b[38;5;33mMaxPooling2D\u001b[0m)    │ (\u001b[38;5;45mNone\u001b[0m, \u001b[38;5;34m111\u001b[0m, \u001b[38;5;34m111\u001b[0m, \u001b[38;5;34m32\u001b[0m)   │             \u001b[38;5;34m0\u001b[0m │\n",
       "├─────────────────────────────────┼────────────────────────┼───────────────┤\n",
       "│ conv2d_1 (\u001b[38;5;33mConv2D\u001b[0m)               │ (\u001b[38;5;45mNone\u001b[0m, \u001b[38;5;34m109\u001b[0m, \u001b[38;5;34m109\u001b[0m, \u001b[38;5;34m64\u001b[0m)   │        \u001b[38;5;34m18,496\u001b[0m │\n",
       "├─────────────────────────────────┼────────────────────────┼───────────────┤\n",
       "│ max_pooling2d_1 (\u001b[38;5;33mMaxPooling2D\u001b[0m)  │ (\u001b[38;5;45mNone\u001b[0m, \u001b[38;5;34m54\u001b[0m, \u001b[38;5;34m54\u001b[0m, \u001b[38;5;34m64\u001b[0m)     │             \u001b[38;5;34m0\u001b[0m │\n",
       "├─────────────────────────────────┼────────────────────────┼───────────────┤\n",
       "│ conv2d_2 (\u001b[38;5;33mConv2D\u001b[0m)               │ (\u001b[38;5;45mNone\u001b[0m, \u001b[38;5;34m52\u001b[0m, \u001b[38;5;34m52\u001b[0m, \u001b[38;5;34m128\u001b[0m)    │        \u001b[38;5;34m73,856\u001b[0m │\n",
       "├─────────────────────────────────┼────────────────────────┼───────────────┤\n",
       "│ max_pooling2d_2 (\u001b[38;5;33mMaxPooling2D\u001b[0m)  │ (\u001b[38;5;45mNone\u001b[0m, \u001b[38;5;34m26\u001b[0m, \u001b[38;5;34m26\u001b[0m, \u001b[38;5;34m128\u001b[0m)    │             \u001b[38;5;34m0\u001b[0m │\n",
       "├─────────────────────────────────┼────────────────────────┼───────────────┤\n",
       "│ flatten (\u001b[38;5;33mFlatten\u001b[0m)               │ (\u001b[38;5;45mNone\u001b[0m, \u001b[38;5;34m86528\u001b[0m)          │             \u001b[38;5;34m0\u001b[0m │\n",
       "├─────────────────────────────────┼────────────────────────┼───────────────┤\n",
       "│ dense (\u001b[38;5;33mDense\u001b[0m)                   │ (\u001b[38;5;45mNone\u001b[0m, \u001b[38;5;34m128\u001b[0m)            │    \u001b[38;5;34m11,075,712\u001b[0m │\n",
       "├─────────────────────────────────┼────────────────────────┼───────────────┤\n",
       "│ dropout (\u001b[38;5;33mDropout\u001b[0m)               │ (\u001b[38;5;45mNone\u001b[0m, \u001b[38;5;34m128\u001b[0m)            │             \u001b[38;5;34m0\u001b[0m │\n",
       "├─────────────────────────────────┼────────────────────────┼───────────────┤\n",
       "│ dense_1 (\u001b[38;5;33mDense\u001b[0m)                 │ (\u001b[38;5;45mNone\u001b[0m, \u001b[38;5;34m4\u001b[0m)              │           \u001b[38;5;34m516\u001b[0m │\n",
       "└─────────────────────────────────┴────────────────────────┴───────────────┘\n"
      ]
     },
     "metadata": {},
     "output_type": "display_data"
    },
    {
     "data": {
      "text/html": [
       "<pre style=\"white-space:pre;overflow-x:auto;line-height:normal;font-family:Menlo,'DejaVu Sans Mono',consolas,'Courier New',monospace\"><span style=\"font-weight: bold\"> Total params: </span><span style=\"color: #00af00; text-decoration-color: #00af00\">11,169,476</span> (42.61 MB)\n",
       "</pre>\n"
      ],
      "text/plain": [
       "\u001b[1m Total params: \u001b[0m\u001b[38;5;34m11,169,476\u001b[0m (42.61 MB)\n"
      ]
     },
     "metadata": {},
     "output_type": "display_data"
    },
    {
     "data": {
      "text/html": [
       "<pre style=\"white-space:pre;overflow-x:auto;line-height:normal;font-family:Menlo,'DejaVu Sans Mono',consolas,'Courier New',monospace\"><span style=\"font-weight: bold\"> Trainable params: </span><span style=\"color: #00af00; text-decoration-color: #00af00\">11,169,476</span> (42.61 MB)\n",
       "</pre>\n"
      ],
      "text/plain": [
       "\u001b[1m Trainable params: \u001b[0m\u001b[38;5;34m11,169,476\u001b[0m (42.61 MB)\n"
      ]
     },
     "metadata": {},
     "output_type": "display_data"
    },
    {
     "data": {
      "text/html": [
       "<pre style=\"white-space:pre;overflow-x:auto;line-height:normal;font-family:Menlo,'DejaVu Sans Mono',consolas,'Courier New',monospace\"><span style=\"font-weight: bold\"> Non-trainable params: </span><span style=\"color: #00af00; text-decoration-color: #00af00\">0</span> (0.00 B)\n",
       "</pre>\n"
      ],
      "text/plain": [
       "\u001b[1m Non-trainable params: \u001b[0m\u001b[38;5;34m0\u001b[0m (0.00 B)\n"
      ]
     },
     "metadata": {},
     "output_type": "display_data"
    }
   ],
   "source": [
    "from tensorflow.keras.models import Sequential\n",
    "from tensorflow.keras.layers import Conv2D, MaxPooling2D, Flatten, Dense, Dropout\n",
    "from tensorflow.keras.utils import to_categorical\n",
    "from sklearn.preprocessing import LabelBinarizer\n",
    "\n",
    "# Convert labels to one-hot encoding\n",
    "label_binarizer = LabelBinarizer()\n",
    "train_labels = label_binarizer.fit_transform(train_labels)\n",
    "valid_labels = label_binarizer.transform(valid_labels)\n",
    "test_labels = label_binarizer.transform(test_labels)\n",
    "\n",
    "# Building the CNN model\n",
    "model = Sequential([\n",
    "    Conv2D(32, (3, 3), activation='relu', input_shape=(224, 224, 3)),\n",
    "    MaxPooling2D(2, 2),\n",
    "    Conv2D(64, (3, 3), activation='relu'),\n",
    "    MaxPooling2D(2, 2),\n",
    "    Conv2D(128, (3, 3), activation='relu'),\n",
    "    MaxPooling2D(2, 2),\n",
    "    Flatten(),\n",
    "    Dense(128, activation='relu'),\n",
    "    Dropout(0.5),\n",
    "    Dense(4, activation='softmax')  # 4 output classes: Angry, Happy, Sad, Other\n",
    "])\n",
    "\n",
    "model.compile(optimizer='adam', loss='categorical_crossentropy', metrics=['accuracy'])\n",
    "model.summary()\n"
   ]
  },
  {
   "cell_type": "markdown",
   "metadata": {},
   "source": [
    "### Code Block 3: Training the Model"
   ]
  },
  {
   "cell_type": "code",
   "execution_count": 3,
   "metadata": {},
   "outputs": [
    {
     "name": "stdout",
     "output_type": "stream",
     "text": [
      "Epoch 1/10\n",
      "\u001b[1m32/32\u001b[0m \u001b[32m━━━━━━━━━━━━━━━━━━━━\u001b[0m\u001b[37m\u001b[0m \u001b[1m9s\u001b[0m 253ms/step - accuracy: 0.2388 - loss: 1.9217 - val_accuracy: 0.2500 - val_loss: 1.3846\n",
      "Epoch 2/10\n",
      "\u001b[1m32/32\u001b[0m \u001b[32m━━━━━━━━━━━━━━━━━━━━\u001b[0m\u001b[37m\u001b[0m \u001b[1m8s\u001b[0m 238ms/step - accuracy: 0.2763 - loss: 1.3867 - val_accuracy: 0.3056 - val_loss: 1.3738\n",
      "Epoch 3/10\n",
      "\u001b[1m32/32\u001b[0m \u001b[32m━━━━━━━━━━━━━━━━━━━━\u001b[0m\u001b[37m\u001b[0m \u001b[1m8s\u001b[0m 234ms/step - accuracy: 0.2739 - loss: 1.3726 - val_accuracy: 0.2500 - val_loss: 1.3739\n",
      "Epoch 4/10\n",
      "\u001b[1m32/32\u001b[0m \u001b[32m━━━━━━━━━━━━━━━━━━━━\u001b[0m\u001b[37m\u001b[0m \u001b[1m8s\u001b[0m 241ms/step - accuracy: 0.3562 - loss: 1.3384 - val_accuracy: 0.1667 - val_loss: 1.4248\n",
      "Epoch 5/10\n",
      "\u001b[1m32/32\u001b[0m \u001b[32m━━━━━━━━━━━━━━━━━━━━\u001b[0m\u001b[37m\u001b[0m \u001b[1m8s\u001b[0m 235ms/step - accuracy: 0.4276 - loss: 1.2982 - val_accuracy: 0.3056 - val_loss: 1.4091\n",
      "Epoch 6/10\n",
      "\u001b[1m32/32\u001b[0m \u001b[32m━━━━━━━━━━━━━━━━━━━━\u001b[0m\u001b[37m\u001b[0m \u001b[1m7s\u001b[0m 231ms/step - accuracy: 0.4905 - loss: 1.2209 - val_accuracy: 0.2500 - val_loss: 1.6202\n",
      "Epoch 7/10\n",
      "\u001b[1m32/32\u001b[0m \u001b[32m━━━━━━━━━━━━━━━━━━━━\u001b[0m\u001b[37m\u001b[0m \u001b[1m7s\u001b[0m 231ms/step - accuracy: 0.5632 - loss: 1.0479 - val_accuracy: 0.3333 - val_loss: 1.4915\n",
      "Epoch 8/10\n",
      "\u001b[1m32/32\u001b[0m \u001b[32m━━━━━━━━━━━━━━━━━━━━\u001b[0m\u001b[37m\u001b[0m \u001b[1m8s\u001b[0m 233ms/step - accuracy: 0.6291 - loss: 0.8844 - val_accuracy: 0.3056 - val_loss: 1.4918\n",
      "Epoch 9/10\n",
      "\u001b[1m32/32\u001b[0m \u001b[32m━━━━━━━━━━━━━━━━━━━━\u001b[0m\u001b[37m\u001b[0m \u001b[1m8s\u001b[0m 233ms/step - accuracy: 0.7332 - loss: 0.7336 - val_accuracy: 0.3333 - val_loss: 1.8096\n",
      "Epoch 10/10\n",
      "\u001b[1m32/32\u001b[0m \u001b[32m━━━━━━━━━━━━━━━━━━━━\u001b[0m\u001b[37m\u001b[0m \u001b[1m7s\u001b[0m 232ms/step - accuracy: 0.7990 - loss: 0.5134 - val_accuracy: 0.3056 - val_loss: 1.7516\n"
     ]
    },
    {
     "name": "stderr",
     "output_type": "stream",
     "text": [
      "WARNING:absl:You are saving your model as an HDF5 file via `model.save()` or `keras.saving.save_model(model)`. This file format is considered legacy. We recommend using instead the native Keras format, e.g. `model.save('my_model.keras')` or `keras.saving.save_model(model, 'my_model.keras')`. \n"
     ]
    }
   ],
   "source": [
    "# Training the model\n",
    "history = model.fit(train_data, train_labels, batch_size=32, epochs=10, validation_data=(valid_data, valid_labels))\n",
    "\n",
    "# Save the model\n",
    "model.save('animal_emotion_model.h5')\n"
   ]
  },
  {
   "cell_type": "markdown",
   "metadata": {},
   "source": [
    "#### Code Block 4: Predicting Emotions and Displaying Notifications"
   ]
  },
  {
   "cell_type": "code",
   "execution_count": 5,
   "metadata": {},
   "outputs": [
    {
     "name": "stderr",
     "output_type": "stream",
     "text": [
      "WARNING:absl:Compiled the loaded model, but the compiled metrics have yet to be built. `model.compile_metrics` will be empty until you train or evaluate the model.\n"
     ]
    },
    {
     "name": "stdout",
     "output_type": "stream",
     "text": [
      "\u001b[1m1/1\u001b[0m \u001b[32m━━━━━━━━━━━━━━━━━━━━\u001b[0m\u001b[37m\u001b[0m \u001b[1m0s\u001b[0m 50ms/step\n",
      "\u001b[1m1/1\u001b[0m \u001b[32m━━━━━━━━━━━━━━━━━━━━\u001b[0m\u001b[37m\u001b[0m \u001b[1m0s\u001b[0m 17ms/step\n",
      "Animal1: Angry\n",
      "Animal2: Happy\n"
     ]
    }
   ],
   "source": [
    "from tensorflow.keras.models import load_model\n",
    "from tensorflow.keras.preprocessing.image import load_img, img_to_array\n",
    "import numpy as np\n",
    "\n",
    "# Load the trained model\n",
    "model = load_model('animal_emotion_model.h5')\n",
    "\n",
    "def predict_emotion(image_path):\n",
    "    img = load_img(image_path, target_size=(224, 224))\n",
    "    img_array = img_to_array(img)\n",
    "    img_array = np.expand_dims(img_array, axis=0) / 255.0\n",
    "\n",
    "    predictions = model.predict(img_array)\n",
    "    emotion = label_binarizer.classes_[np.argmax(predictions)]\n",
    "    return emotion\n",
    "\n",
    "def display_notification(animals):\n",
    "    messages = []\n",
    "    for animal, emotion in animals.items():\n",
    "        message = f\"{animal}: {emotion}\"\n",
    "        messages.append(message)\n",
    "    \n",
    "    # This would be a system-specific command or function that displays notifications\n",
    "    # For this example, we're just printing the messages\n",
    "    for message in messages:\n",
    "        print(message)\n",
    "\n",
    "# Paths to the images from the test dataset\n",
    "animal1_image_path = 'C:\\\\Users\\\\nisha\\\\OneDrive\\\\Documents\\\\Animal\\\\Master_Folder\\\\test\\\\Angry\\\\14.jpg'\n",
    "animal2_image_path = 'C:\\\\Users\\\\nisha\\\\OneDrive\\\\Documents\\\\Animal\\\\Master_Folder\\\\test\\\\happy\\\\065.jpg'\n",
    "\n",
    "animals = {\n",
    "    \"Animal1\": predict_emotion(animal1_image_path),\n",
    "    \"Animal2\": predict_emotion(animal2_image_path)\n",
    "}\n",
    "\n",
    "display_notification(animals)\n"
   ]
  },
  {
   "cell_type": "markdown",
   "metadata": {},
   "source": [
    "#### Code Block 5: Building a GUI for Emotion Prediction"
   ]
  },
  {
   "cell_type": "code",
   "execution_count": 8,
   "metadata": {},
   "outputs": [
    {
     "name": "stderr",
     "output_type": "stream",
     "text": [
      "WARNING:absl:Compiled the loaded model, but the compiled metrics have yet to be built. `model.compile_metrics` will be empty until you train or evaluate the model.\n"
     ]
    },
    {
     "name": "stdout",
     "output_type": "stream",
     "text": [
      "Opening file dialog...\n",
      "File selected: C:/Users/nisha/OneDrive/Documents/Animal/Master_Folder/test/Angry/14.jpg\n",
      "Loading image for prediction...\n",
      "\u001b[1m1/1\u001b[0m \u001b[32m━━━━━━━━━━━━━━━━━━━━\u001b[0m\u001b[37m\u001b[0m \u001b[1m0s\u001b[0m 47ms/step\n",
      "Prediction completed: Angry\n",
      "Opening file dialog...\n",
      "File selected: C:/Users/nisha/OneDrive/Documents/Animal/Master_Folder/test/Angry/90.jpg\n",
      "Loading image for prediction...\n",
      "\u001b[1m1/1\u001b[0m \u001b[32m━━━━━━━━━━━━━━━━━━━━\u001b[0m\u001b[37m\u001b[0m \u001b[1m0s\u001b[0m 18ms/step\n",
      "Prediction completed: Angry\n",
      "Opening file dialog...\n",
      "File selected: C:/Users/nisha/OneDrive/Documents/Animal/happy/004.jpg\n",
      "Loading image for prediction...\n",
      "\u001b[1m1/1\u001b[0m \u001b[32m━━━━━━━━━━━━━━━━━━━━\u001b[0m\u001b[37m\u001b[0m \u001b[1m0s\u001b[0m 17ms/step\n",
      "Prediction completed: Happy\n"
     ]
    }
   ],
   "source": [
    "import tkinter as tk\n",
    "from tkinter import filedialog\n",
    "from PIL import Image, ImageTk\n",
    "from tensorflow.keras.models import load_model\n",
    "import numpy as np\n",
    "from tensorflow.keras.preprocessing.image import load_img, img_to_array\n",
    "\n",
    "# Load the trained model\n",
    "model = load_model('animal_emotion_model.h5')\n",
    "\n",
    "def predict_emotion(image_path):\n",
    "    print(\"Loading image for prediction...\")\n",
    "    img = load_img(image_path, target_size=(224, 224))\n",
    "    img_array = img_to_array(img)\n",
    "    img_array = np.expand_dims(img_array, axis=0) / 255.0\n",
    "    predictions = model.predict(img_array)\n",
    "    predicted_emotion = label_binarizer.classes_[np.argmax(predictions)]\n",
    "    print(f\"Prediction completed: {predicted_emotion}\")\n",
    "    return predicted_emotion\n",
    "\n",
    "def load_image():\n",
    "    print(\"Opening file dialog...\")\n",
    "    file_path = filedialog.askopenfilename()\n",
    "    if file_path:\n",
    "        print(f\"File selected: {file_path}\")\n",
    "        img = Image.open(file_path)\n",
    "        img = img.resize((224, 224), Image.Resampling.LANCZOS)  # Updated this line\n",
    "        img_photo = ImageTk.PhotoImage(img)\n",
    "        panel.configure(image=img_photo)\n",
    "        panel.image = img_photo\n",
    "        emotion = predict_emotion(file_path)\n",
    "        result_label.config(text=f\"Predicted Emotion: {emotion}\")\n",
    "\n",
    "# Set up the GUI\n",
    "root = tk.Tk()\n",
    "root.title('Animal Emotion Predictor')\n",
    "\n",
    "frame = tk.Frame(root)\n",
    "frame.pack(padx=10, pady=10)\n",
    "\n",
    "btn_load = tk.Button(frame, text=\"Load Image\", command=load_image)\n",
    "btn_load.pack(side=tk.LEFT, padx=10)\n",
    "\n",
    "panel = tk.Label(frame, text=\"Select an image\")\n",
    "panel.pack(side=tk.LEFT, padx=10)\n",
    "\n",
    "result_label = tk.Label(frame, text=\"Predicted Emotion: None\")\n",
    "result_label.pack(side=tk.LEFT, padx=10)\n",
    "\n",
    "root.mainloop()\n"
   ]
  }
 ],
 "metadata": {
  "kernelspec": {
   "display_name": "Python 3",
   "language": "python",
   "name": "python3"
  },
  "language_info": {
   "codemirror_mode": {
    "name": "ipython",
    "version": 3
   },
   "file_extension": ".py",
   "mimetype": "text/x-python",
   "name": "python",
   "nbconvert_exporter": "python",
   "pygments_lexer": "ipython3",
   "version": "3.12.3"
  }
 },
 "nbformat": 4,
 "nbformat_minor": 2
}
